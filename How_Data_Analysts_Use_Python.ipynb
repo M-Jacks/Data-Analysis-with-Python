{
 "cells": [
  {
   "cell_type": "markdown",
   "metadata": {},
   "source": [
    "## **1. Data Cleaning**\n",
    "- Pandas and Numpy\n",
    "## **2. Data Analysis**\n",
    "- Pandas: Exlporatory data analysis\n",
    "- Data visualization: Matplotlib & Seaborn\n",
    "## **3. Machine Learning**\n",
    "- SciPy\n",
    "- StatsModels\n",
    "- - Perform complex statistical tests and analysis.\n",
    "## **4. Gentle Cleansing**\n",
    "- Scikit-learn \n",
    "- TensorFlow.\n",
    "- - Creating and evaluating ML Models."
   ]
  },
  {
   "cell_type": "markdown",
   "metadata": {},
   "source": []
  }
 ],
 "metadata": {
  "language_info": {
   "name": "python"
  }
 },
 "nbformat": 4,
 "nbformat_minor": 2
}
